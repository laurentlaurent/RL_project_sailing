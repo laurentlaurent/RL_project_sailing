{
 "cells": [
  {
   "cell_type": "markdown",
   "metadata": {},
   "source": [
    "# Testing Agent Validity\n",
    "\n",
    "This notebook provides a quick sanity check that your agent implementation meets the required interface specifications for the Sailing Challenge. It does not test performance - only that your agent can be loaded and will return valid actions."
   ]
  },
  {
   "cell_type": "markdown",
   "metadata": {},
   "source": [
    "## Setup\n",
    "\n",
    "First, let's import the necessary validation tools:"
   ]
  },
  {
   "cell_type": "code",
   "execution_count": 1,
   "metadata": {},
   "outputs": [],
   "source": [
    "import sys\n",
    "import os\n",
    "import numpy as np\n",
    "\n",
    "# Add the src directory to the path\n",
    "sys.path.append(os.path.abspath('../src'))\n",
    "sys.path.append(os.path.abspath('..'))\n",
    "\n",
    "# Import the agent validation module\n",
    "from src.test_agent_validity import validate_agent"
   ]
  },
  {
   "cell_type": "markdown",
   "metadata": {},
   "source": [
    "## Agent Requirements\n",
    "\n",
    "Your agent must:\n",
    "\n",
    "1. **Inherit from BaseAgent** (`from src.agents.base_agent import BaseAgent`)\n",
    "2. **Implement these methods**:\n",
    "   - `act(observation)`: Return an action (0-8) based on the observation\n",
    "   - `reset()`: Reset the agent's internal state\n",
    "   - `seed(seed)`: Set the random seed for reproducibility\n",
    "\n",
    "Actions must be integers in the range 0-8 (0-7 for movement directions, 8 to stay in place)."
   ]
  },
  {
   "cell_type": "code",
   "execution_count": 2,
   "metadata": {},
   "outputs": [
    {
     "name": "stdout",
     "output_type": "stream",
     "text": [
      "Testing example agent...\n",
      "\n",
      "==================================================\n",
      "Agent: NaiveAgent\n",
      "==================================================\n",
      "✅ VALID: Agent implements all required methods and returns valid actions.\n",
      "==================================================\n"
     ]
    }
   ],
   "source": [
    "def print_validation_results(results):\n",
    "    \"\"\"Print validation results in a readable format.\"\"\"\n",
    "    print(\"\\n\" + \"=\"*50)\n",
    "    print(f\"Agent: {results['agent_name']}\")\n",
    "    print(\"=\"*50)\n",
    "    \n",
    "    if results['valid']:\n",
    "        print(\"✅ VALID: Agent implements all required methods and returns valid actions.\")\n",
    "    else:\n",
    "        print(\"❌ INVALID: Agent validation failed. See errors below.\")\n",
    "        \n",
    "    if results['errors']:\n",
    "        print(\"\\nErrors:\")\n",
    "        for i, error in enumerate(results['errors'], 1):\n",
    "            print(f\"{i}. {error}\")\n",
    "    \n",
    "    if results['warnings']:\n",
    "        print(\"\\nWarnings (these won't prevent submission):\")\n",
    "        for i, warning in enumerate(results['warnings'], 1):\n",
    "            print(f\"{i}. {warning}\")\n",
    "    \n",
    "    print(\"=\"*50)\n",
    "\n",
    "# First, test the example agent to show how validation works\n",
    "example_agent_path = \"../src/agents/agent_naive.py\"\n",
    "print(\"Testing example agent...\")\n",
    "results = validate_agent(example_agent_path)\n",
    "print_validation_results(results)"
   ]
  },
  {
   "cell_type": "markdown",
   "metadata": {},
   "source": [
    "## Validate Your Agent\n",
    "\n",
    "Now validate your own agent implementation:\n",
    "\n",
    "1. Set the path to your agent file below\n",
    "2. Run the cell to check if your agent meets the requirements\n",
    "3. Fix any errors and rerun until validation passes"
   ]
  },
  {
   "cell_type": "code",
   "execution_count": 8,
   "metadata": {},
   "outputs": [
    {
     "name": "stdout",
     "output_type": "stream",
     "text": [
      "\n",
      "==================================================\n",
      "Agent: WindAwareNavigator\n",
      "==================================================\n",
      "✅ VALID: Agent implements all required methods and returns valid actions.\n",
      "\n",
      "Warnings (these won't prevent submission):\n",
      "1. Agent does not implement save() method\n",
      "2. Agent does not implement load() method\n",
      "==================================================\n"
     ]
    }
   ],
   "source": [
    "# Replace this with the path to your agent implementation\n",
    "# your_agent_path = \"../your_agent.py\"  # Change this!\n",
    "your_agent_path = \"../src/agents/sailint_agent.py\"\n",
    "\n",
    "try:\n",
    "    # Validate your agent\n",
    "    results = validate_agent(your_agent_path)\n",
    "    print_validation_results(results)\n",
    "    \n",
    "except FileNotFoundError:\n",
    "    print(f\"❌ File not found: {your_agent_path}\")\n",
    "    print(\"Please provide the correct path to your agent implementation.\")\n",
    "except Exception as e:\n",
    "    print(f\"❌ Error: {str(e)}\")\n",
    "    print(\"Make sure your file has valid Python syntax and can be imported.\")"
   ]
  },
  {
   "cell_type": "markdown",
   "metadata": {},
   "source": [
    "## Command-Line Usage\n",
    "\n",
    "You can also validate your agent from the command line. For the best compatibility, run the script from the project root directory:\n",
    "\n",
    "```bash\n",
    "python -m src.test_agent_validity src/agents/agent_naive.py\n",
    "```\n",
    "\n",
    "If you run the script without any arguments, it will test the naive agent by default:\n",
    "\n",
    "```bash\n",
    "python -m src.test_agent_validity\n",
    "```\n",
    "\n",
    "### Sample Output\n",
    "\n",
    "Here's what the output looks like for a valid agent:\n",
    "```bash\n",
    "Agent validation results for: src/agents/agent_naive.py\n",
    "Agent name: NaiveAgent\n",
    "Valid: True\n",
    "Validation successful! The agent meets all requirements.\n",
    "```\n",
    "\n",
    "And here's an example of validation failure output:\n",
    "```bash\n",
    "Agent validation results for: path/to/invalid_agent.py\n",
    "Agent name: InvalidAgent\n",
    "Valid: False\n",
    "Errors:\n",
    "Agent returned out-of-range action: 10 (valid range: 0-8)\n",
    "Method reset is not callable\n",
    "Validation failed. Please fix the errors and try again.\n",
    "```\n",
    "\n",
    "This command-line tool provides a quick way to check if your agent implementation meets the basic requirements before running a full evaluation."
   ]
  },
  {
   "cell_type": "markdown",
   "metadata": {},
   "source": [
    "## Next Steps\n",
    "\n",
    "If your agent passes validation:\n",
    "\n",
    "1. It can be properly loaded and evaluated in the challenge environment\n",
    "2. It will return valid actions that the environment can process\n",
    "3. It's ready for submission\n",
    "\n",
    "For comprehensive performance evaluation, use the `evaluate_submission.ipynb` notebook, which tests your agent across different initial windfields."
   ]
  }
 ],
 "metadata": {
  "kernelspec": {
   "display_name": "Python 3",
   "language": "python",
   "name": "python3"
  },
  "language_info": {
   "codemirror_mode": {
    "name": "ipython",
    "version": 3
   },
   "file_extension": ".py",
   "mimetype": "text/x-python",
   "name": "python",
   "nbconvert_exporter": "python",
   "pygments_lexer": "ipython3",
   "version": "3.12.9"
  }
 },
 "nbformat": 4,
 "nbformat_minor": 2
}
